{
 "cells": [
  {
   "cell_type": "code",
   "execution_count": 1,
   "id": "50608d8a-7a40-41ce-ac1f-f9b60e71d015",
   "metadata": {},
   "outputs": [],
   "source": [
    "import pandas as pd\n",
    "import numpy as np\n",
    "import seaborn as sns\n",
    "import matplotlib.pyplot as plt"
   ]
  },
  {
   "cell_type": "code",
   "execution_count": 9,
   "id": "c257c65f-fd22-42cc-a354-6cbdd40ec734",
   "metadata": {},
   "outputs": [],
   "source": [
    "NYC = pd.read_csv('AB_NYC_2019-Copy1.csv')"
   ]
  },
  {
   "cell_type": "code",
   "execution_count": 11,
   "id": "aaf4e2de-18d7-4840-94d6-f3c94d9d82c6",
   "metadata": {},
   "outputs": [
    {
     "data": {
      "text/html": [
       "<div>\n",
       "<style scoped>\n",
       "    .dataframe tbody tr th:only-of-type {\n",
       "        vertical-align: middle;\n",
       "    }\n",
       "\n",
       "    .dataframe tbody tr th {\n",
       "        vertical-align: top;\n",
       "    }\n",
       "\n",
       "    .dataframe thead th {\n",
       "        text-align: right;\n",
       "    }\n",
       "</style>\n",
       "<table border=\"1\" class=\"dataframe\">\n",
       "  <thead>\n",
       "    <tr style=\"text-align: right;\">\n",
       "      <th></th>\n",
       "      <th>id</th>\n",
       "      <th>name</th>\n",
       "      <th>host_id</th>\n",
       "      <th>host_name</th>\n",
       "      <th>neighbourhood_group</th>\n",
       "      <th>neighbourhood</th>\n",
       "      <th>latitude</th>\n",
       "      <th>longitude</th>\n",
       "      <th>room_type</th>\n",
       "      <th>price</th>\n",
       "      <th>minimum_nights</th>\n",
       "      <th>number_of_reviews</th>\n",
       "      <th>last_review</th>\n",
       "      <th>reviews_per_month</th>\n",
       "      <th>calculated_host_listings_count</th>\n",
       "      <th>availability_365</th>\n",
       "    </tr>\n",
       "  </thead>\n",
       "  <tbody>\n",
       "    <tr>\n",
       "      <th>0</th>\n",
       "      <td>2539</td>\n",
       "      <td>Clean &amp; quiet apt home by the park</td>\n",
       "      <td>2787</td>\n",
       "      <td>John</td>\n",
       "      <td>Brooklyn</td>\n",
       "      <td>Kensington</td>\n",
       "      <td>40.64749</td>\n",
       "      <td>-73.97237</td>\n",
       "      <td>Private room</td>\n",
       "      <td>149</td>\n",
       "      <td>1</td>\n",
       "      <td>9</td>\n",
       "      <td>2018-10-19</td>\n",
       "      <td>0.21</td>\n",
       "      <td>6</td>\n",
       "      <td>365</td>\n",
       "    </tr>\n",
       "    <tr>\n",
       "      <th>1</th>\n",
       "      <td>2595</td>\n",
       "      <td>Skylit Midtown Castle</td>\n",
       "      <td>2845</td>\n",
       "      <td>Jennifer</td>\n",
       "      <td>Manhattan</td>\n",
       "      <td>Midtown</td>\n",
       "      <td>40.75362</td>\n",
       "      <td>-73.98377</td>\n",
       "      <td>Entire home/apt</td>\n",
       "      <td>225</td>\n",
       "      <td>1</td>\n",
       "      <td>45</td>\n",
       "      <td>2019-05-21</td>\n",
       "      <td>0.38</td>\n",
       "      <td>2</td>\n",
       "      <td>355</td>\n",
       "    </tr>\n",
       "    <tr>\n",
       "      <th>2</th>\n",
       "      <td>3647</td>\n",
       "      <td>THE VILLAGE OF HARLEM....NEW YORK !</td>\n",
       "      <td>4632</td>\n",
       "      <td>Elisabeth</td>\n",
       "      <td>Manhattan</td>\n",
       "      <td>Harlem</td>\n",
       "      <td>40.80902</td>\n",
       "      <td>-73.94190</td>\n",
       "      <td>Private room</td>\n",
       "      <td>150</td>\n",
       "      <td>3</td>\n",
       "      <td>0</td>\n",
       "      <td>NaN</td>\n",
       "      <td>NaN</td>\n",
       "      <td>1</td>\n",
       "      <td>365</td>\n",
       "    </tr>\n",
       "    <tr>\n",
       "      <th>3</th>\n",
       "      <td>3831</td>\n",
       "      <td>Cozy Entire Floor of Brownstone</td>\n",
       "      <td>4869</td>\n",
       "      <td>LisaRoxanne</td>\n",
       "      <td>Brooklyn</td>\n",
       "      <td>Clinton Hill</td>\n",
       "      <td>40.68514</td>\n",
       "      <td>-73.95976</td>\n",
       "      <td>Entire home/apt</td>\n",
       "      <td>89</td>\n",
       "      <td>1</td>\n",
       "      <td>270</td>\n",
       "      <td>2019-07-05</td>\n",
       "      <td>4.64</td>\n",
       "      <td>1</td>\n",
       "      <td>194</td>\n",
       "    </tr>\n",
       "    <tr>\n",
       "      <th>4</th>\n",
       "      <td>5022</td>\n",
       "      <td>Entire Apt: Spacious Studio/Loft by central park</td>\n",
       "      <td>7192</td>\n",
       "      <td>Laura</td>\n",
       "      <td>Manhattan</td>\n",
       "      <td>East Harlem</td>\n",
       "      <td>40.79851</td>\n",
       "      <td>-73.94399</td>\n",
       "      <td>Entire home/apt</td>\n",
       "      <td>80</td>\n",
       "      <td>10</td>\n",
       "      <td>9</td>\n",
       "      <td>2018-11-19</td>\n",
       "      <td>0.10</td>\n",
       "      <td>1</td>\n",
       "      <td>0</td>\n",
       "    </tr>\n",
       "  </tbody>\n",
       "</table>\n",
       "</div>"
      ],
      "text/plain": [
       "     id                                              name  host_id  \\\n",
       "0  2539                Clean & quiet apt home by the park     2787   \n",
       "1  2595                             Skylit Midtown Castle     2845   \n",
       "2  3647               THE VILLAGE OF HARLEM....NEW YORK !     4632   \n",
       "3  3831                   Cozy Entire Floor of Brownstone     4869   \n",
       "4  5022  Entire Apt: Spacious Studio/Loft by central park     7192   \n",
       "\n",
       "     host_name neighbourhood_group neighbourhood  latitude  longitude  \\\n",
       "0         John            Brooklyn    Kensington  40.64749  -73.97237   \n",
       "1     Jennifer           Manhattan       Midtown  40.75362  -73.98377   \n",
       "2    Elisabeth           Manhattan        Harlem  40.80902  -73.94190   \n",
       "3  LisaRoxanne            Brooklyn  Clinton Hill  40.68514  -73.95976   \n",
       "4        Laura           Manhattan   East Harlem  40.79851  -73.94399   \n",
       "\n",
       "         room_type  price  minimum_nights  number_of_reviews last_review  \\\n",
       "0     Private room    149               1                  9  2018-10-19   \n",
       "1  Entire home/apt    225               1                 45  2019-05-21   \n",
       "2     Private room    150               3                  0         NaN   \n",
       "3  Entire home/apt     89               1                270  2019-07-05   \n",
       "4  Entire home/apt     80              10                  9  2018-11-19   \n",
       "\n",
       "   reviews_per_month  calculated_host_listings_count  availability_365  \n",
       "0               0.21                               6               365  \n",
       "1               0.38                               2               355  \n",
       "2                NaN                               1               365  \n",
       "3               4.64                               1               194  \n",
       "4               0.10                               1                 0  "
      ]
     },
     "execution_count": 11,
     "metadata": {},
     "output_type": "execute_result"
    }
   ],
   "source": [
    "NYC.head()"
   ]
  },
  {
   "cell_type": "code",
   "execution_count": 13,
   "id": "fd085b41-28ed-4d7b-a19e-a08175e9dd50",
   "metadata": {},
   "outputs": [
    {
     "name": "stdout",
     "output_type": "stream",
     "text": [
      "Index(['id', 'name', 'host_id', 'host_name', 'neighbourhood_group',\n",
      "       'neighbourhood', 'latitude', 'longitude', 'room_type', 'price',\n",
      "       'minimum_nights', 'number_of_reviews', 'last_review',\n",
      "       'reviews_per_month', 'calculated_host_listings_count',\n",
      "       'availability_365'],\n",
      "      dtype='object')\n"
     ]
    }
   ],
   "source": [
    "print(NYC.columns)"
   ]
  },
  {
   "cell_type": "code",
   "execution_count": 15,
   "id": "b0777a8d-c8dd-4e1c-b928-2dc223657f67",
   "metadata": {},
   "outputs": [
    {
     "name": "stdout",
     "output_type": "stream",
     "text": [
      "<class 'pandas.core.frame.DataFrame'>\n",
      "RangeIndex: 48895 entries, 0 to 48894\n",
      "Data columns (total 16 columns):\n",
      " #   Column                          Non-Null Count  Dtype  \n",
      "---  ------                          --------------  -----  \n",
      " 0   id                              48895 non-null  int64  \n",
      " 1   name                            48879 non-null  object \n",
      " 2   host_id                         48895 non-null  int64  \n",
      " 3   host_name                       48874 non-null  object \n",
      " 4   neighbourhood_group             48895 non-null  object \n",
      " 5   neighbourhood                   48895 non-null  object \n",
      " 6   latitude                        48895 non-null  float64\n",
      " 7   longitude                       48895 non-null  float64\n",
      " 8   room_type                       48895 non-null  object \n",
      " 9   price                           48895 non-null  int64  \n",
      " 10  minimum_nights                  48895 non-null  int64  \n",
      " 11  number_of_reviews               48895 non-null  int64  \n",
      " 12  last_review                     38843 non-null  object \n",
      " 13  reviews_per_month               38843 non-null  float64\n",
      " 14  calculated_host_listings_count  48895 non-null  int64  \n",
      " 15  availability_365                48895 non-null  int64  \n",
      "dtypes: float64(3), int64(7), object(6)\n",
      "memory usage: 6.0+ MB\n"
     ]
    }
   ],
   "source": [
    "NYC.info()"
   ]
  },
  {
   "cell_type": "code",
   "execution_count": 17,
   "id": "0f802213-845e-4812-ae30-1cb907cf71f8",
   "metadata": {},
   "outputs": [
    {
     "data": {
      "text/html": [
       "<div>\n",
       "<style scoped>\n",
       "    .dataframe tbody tr th:only-of-type {\n",
       "        vertical-align: middle;\n",
       "    }\n",
       "\n",
       "    .dataframe tbody tr th {\n",
       "        vertical-align: top;\n",
       "    }\n",
       "\n",
       "    .dataframe thead th {\n",
       "        text-align: right;\n",
       "    }\n",
       "</style>\n",
       "<table border=\"1\" class=\"dataframe\">\n",
       "  <thead>\n",
       "    <tr style=\"text-align: right;\">\n",
       "      <th></th>\n",
       "      <th>id</th>\n",
       "      <th>host_id</th>\n",
       "      <th>latitude</th>\n",
       "      <th>longitude</th>\n",
       "      <th>price</th>\n",
       "      <th>minimum_nights</th>\n",
       "      <th>number_of_reviews</th>\n",
       "      <th>reviews_per_month</th>\n",
       "      <th>calculated_host_listings_count</th>\n",
       "      <th>availability_365</th>\n",
       "    </tr>\n",
       "  </thead>\n",
       "  <tbody>\n",
       "    <tr>\n",
       "      <th>count</th>\n",
       "      <td>4.889500e+04</td>\n",
       "      <td>4.889500e+04</td>\n",
       "      <td>48895.000000</td>\n",
       "      <td>48895.000000</td>\n",
       "      <td>48895.000000</td>\n",
       "      <td>48895.000000</td>\n",
       "      <td>48895.000000</td>\n",
       "      <td>38843.000000</td>\n",
       "      <td>48895.000000</td>\n",
       "      <td>48895.000000</td>\n",
       "    </tr>\n",
       "    <tr>\n",
       "      <th>mean</th>\n",
       "      <td>1.901714e+07</td>\n",
       "      <td>6.762001e+07</td>\n",
       "      <td>40.728949</td>\n",
       "      <td>-73.952170</td>\n",
       "      <td>152.720687</td>\n",
       "      <td>7.029962</td>\n",
       "      <td>23.274466</td>\n",
       "      <td>1.373221</td>\n",
       "      <td>7.143982</td>\n",
       "      <td>112.781327</td>\n",
       "    </tr>\n",
       "    <tr>\n",
       "      <th>std</th>\n",
       "      <td>1.098311e+07</td>\n",
       "      <td>7.861097e+07</td>\n",
       "      <td>0.054530</td>\n",
       "      <td>0.046157</td>\n",
       "      <td>240.154170</td>\n",
       "      <td>20.510550</td>\n",
       "      <td>44.550582</td>\n",
       "      <td>1.680442</td>\n",
       "      <td>32.952519</td>\n",
       "      <td>131.622289</td>\n",
       "    </tr>\n",
       "    <tr>\n",
       "      <th>min</th>\n",
       "      <td>2.539000e+03</td>\n",
       "      <td>2.438000e+03</td>\n",
       "      <td>40.499790</td>\n",
       "      <td>-74.244420</td>\n",
       "      <td>0.000000</td>\n",
       "      <td>1.000000</td>\n",
       "      <td>0.000000</td>\n",
       "      <td>0.010000</td>\n",
       "      <td>1.000000</td>\n",
       "      <td>0.000000</td>\n",
       "    </tr>\n",
       "    <tr>\n",
       "      <th>25%</th>\n",
       "      <td>9.471945e+06</td>\n",
       "      <td>7.822033e+06</td>\n",
       "      <td>40.690100</td>\n",
       "      <td>-73.983070</td>\n",
       "      <td>69.000000</td>\n",
       "      <td>1.000000</td>\n",
       "      <td>1.000000</td>\n",
       "      <td>0.190000</td>\n",
       "      <td>1.000000</td>\n",
       "      <td>0.000000</td>\n",
       "    </tr>\n",
       "    <tr>\n",
       "      <th>50%</th>\n",
       "      <td>1.967728e+07</td>\n",
       "      <td>3.079382e+07</td>\n",
       "      <td>40.723070</td>\n",
       "      <td>-73.955680</td>\n",
       "      <td>106.000000</td>\n",
       "      <td>3.000000</td>\n",
       "      <td>5.000000</td>\n",
       "      <td>0.720000</td>\n",
       "      <td>1.000000</td>\n",
       "      <td>45.000000</td>\n",
       "    </tr>\n",
       "    <tr>\n",
       "      <th>75%</th>\n",
       "      <td>2.915218e+07</td>\n",
       "      <td>1.074344e+08</td>\n",
       "      <td>40.763115</td>\n",
       "      <td>-73.936275</td>\n",
       "      <td>175.000000</td>\n",
       "      <td>5.000000</td>\n",
       "      <td>24.000000</td>\n",
       "      <td>2.020000</td>\n",
       "      <td>2.000000</td>\n",
       "      <td>227.000000</td>\n",
       "    </tr>\n",
       "    <tr>\n",
       "      <th>max</th>\n",
       "      <td>3.648724e+07</td>\n",
       "      <td>2.743213e+08</td>\n",
       "      <td>40.913060</td>\n",
       "      <td>-73.712990</td>\n",
       "      <td>10000.000000</td>\n",
       "      <td>1250.000000</td>\n",
       "      <td>629.000000</td>\n",
       "      <td>58.500000</td>\n",
       "      <td>327.000000</td>\n",
       "      <td>365.000000</td>\n",
       "    </tr>\n",
       "  </tbody>\n",
       "</table>\n",
       "</div>"
      ],
      "text/plain": [
       "                 id       host_id      latitude     longitude         price  \\\n",
       "count  4.889500e+04  4.889500e+04  48895.000000  48895.000000  48895.000000   \n",
       "mean   1.901714e+07  6.762001e+07     40.728949    -73.952170    152.720687   \n",
       "std    1.098311e+07  7.861097e+07      0.054530      0.046157    240.154170   \n",
       "min    2.539000e+03  2.438000e+03     40.499790    -74.244420      0.000000   \n",
       "25%    9.471945e+06  7.822033e+06     40.690100    -73.983070     69.000000   \n",
       "50%    1.967728e+07  3.079382e+07     40.723070    -73.955680    106.000000   \n",
       "75%    2.915218e+07  1.074344e+08     40.763115    -73.936275    175.000000   \n",
       "max    3.648724e+07  2.743213e+08     40.913060    -73.712990  10000.000000   \n",
       "\n",
       "       minimum_nights  number_of_reviews  reviews_per_month  \\\n",
       "count    48895.000000       48895.000000       38843.000000   \n",
       "mean         7.029962          23.274466           1.373221   \n",
       "std         20.510550          44.550582           1.680442   \n",
       "min          1.000000           0.000000           0.010000   \n",
       "25%          1.000000           1.000000           0.190000   \n",
       "50%          3.000000           5.000000           0.720000   \n",
       "75%          5.000000          24.000000           2.020000   \n",
       "max       1250.000000         629.000000          58.500000   \n",
       "\n",
       "       calculated_host_listings_count  availability_365  \n",
       "count                    48895.000000      48895.000000  \n",
       "mean                         7.143982        112.781327  \n",
       "std                         32.952519        131.622289  \n",
       "min                          1.000000          0.000000  \n",
       "25%                          1.000000          0.000000  \n",
       "50%                          1.000000         45.000000  \n",
       "75%                          2.000000        227.000000  \n",
       "max                        327.000000        365.000000  "
      ]
     },
     "execution_count": 17,
     "metadata": {},
     "output_type": "execute_result"
    }
   ],
   "source": [
    "NYC.describe()"
   ]
  },
  {
   "cell_type": "code",
   "execution_count": 19,
   "id": "d7701e97-8de6-4876-b1a8-5c2e1b9d7d7d",
   "metadata": {},
   "outputs": [
    {
     "name": "stdout",
     "output_type": "stream",
     "text": [
      "shape of dataset: (48895, 16)\n"
     ]
    }
   ],
   "source": [
    "print(\"shape of dataset:\",NYC.shape)"
   ]
  },
  {
   "cell_type": "markdown",
   "id": "61fa4c52-9e47-4aa7-9550-a11ce8ff301d",
   "metadata": {},
   "source": [
    "### Data Integrity"
   ]
  },
  {
   "cell_type": "code",
   "execution_count": 22,
   "id": "025d2714-dab9-4786-bcde-1fb525843275",
   "metadata": {},
   "outputs": [
    {
     "name": "stdout",
     "output_type": "stream",
     "text": [
      "id                                  int64\n",
      "name                               object\n",
      "host_id                             int64\n",
      "host_name                          object\n",
      "neighbourhood_group                object\n",
      "neighbourhood                      object\n",
      "latitude                          float64\n",
      "longitude                         float64\n",
      "room_type                          object\n",
      "price                               int64\n",
      "minimum_nights                      int64\n",
      "number_of_reviews                   int64\n",
      "last_review                        object\n",
      "reviews_per_month                 float64\n",
      "calculated_host_listings_count      int64\n",
      "availability_365                    int64\n",
      "dtype: object\n"
     ]
    }
   ],
   "source": [
    "print(NYC.dtypes)"
   ]
  },
  {
   "cell_type": "code",
   "execution_count": 24,
   "id": "74569a2f-64df-448e-b30b-e0b98f264b53",
   "metadata": {},
   "outputs": [],
   "source": [
    "## converting last review from object to datetime format\n",
    "NYC['last_review'] = pd.to_datetime(NYC['last_review'])"
   ]
  },
  {
   "cell_type": "code",
   "execution_count": 26,
   "id": "b334ebd4-f854-4a6b-bfb6-0921afcc56a4",
   "metadata": {},
   "outputs": [
    {
     "name": "stdout",
     "output_type": "stream",
     "text": [
      "id                                         int64\n",
      "name                                      object\n",
      "host_id                                    int64\n",
      "host_name                                 object\n",
      "neighbourhood_group                       object\n",
      "neighbourhood                             object\n",
      "latitude                                 float64\n",
      "longitude                                float64\n",
      "room_type                                 object\n",
      "price                                      int64\n",
      "minimum_nights                             int64\n",
      "number_of_reviews                          int64\n",
      "last_review                       datetime64[ns]\n",
      "reviews_per_month                        float64\n",
      "calculated_host_listings_count             int64\n",
      "availability_365                           int64\n",
      "dtype: object\n"
     ]
    }
   ],
   "source": [
    "## confiming the change\n",
    "print(NYC.dtypes)"
   ]
  },
  {
   "cell_type": "code",
   "execution_count": 34,
   "id": "6b84847a-4b58-4f0e-98ea-1bf4f437db62",
   "metadata": {},
   "outputs": [
    {
     "name": "stdout",
     "output_type": "stream",
     "text": [
      "Empty DataFrame\n",
      "Columns: [id, name, host_id, host_name, neighbourhood_group, neighbourhood, latitude, longitude, room_type, price, minimum_nights, number_of_reviews, last_review, reviews_per_month, calculated_host_listings_count, availability_365]\n",
      "Index: []\n"
     ]
    }
   ],
   "source": [
    "## checking for negative values in relevant columns\n",
    "columns = NYC[['price','minimum_nights','number_of_reviews','reviews_per_month','calculated_host_listings_count','availability_365']] < 0\n",
    "\n",
    "#find rows with negative values\n",
    "negative_values = NYC[columns.any(axis=1)]\n",
    "\n",
    "#display negative values\n",
    "print(negative_values)"
   ]
  },
  {
   "cell_type": "markdown",
   "id": "dc5092e7-d2a5-4f78-99f4-9cc4d0cb0ab2",
   "metadata": {},
   "source": [
    "### from the result, it shows there are no negative values found in the columns"
   ]
  },
  {
   "cell_type": "markdown",
   "id": "86ce7136-130a-4b06-ada2-dd675c98a759",
   "metadata": {},
   "source": [
    "## Handle missing data"
   ]
  },
  {
   "cell_type": "code",
   "execution_count": 38,
   "id": "ad06568c-2845-47bc-9655-d0c83fed4faa",
   "metadata": {},
   "outputs": [
    {
     "name": "stdout",
     "output_type": "stream",
     "text": [
      "id                                    0\n",
      "name                                 16\n",
      "host_id                               0\n",
      "host_name                            21\n",
      "neighbourhood_group                   0\n",
      "neighbourhood                         0\n",
      "latitude                              0\n",
      "longitude                             0\n",
      "room_type                             0\n",
      "price                                 0\n",
      "minimum_nights                        0\n",
      "number_of_reviews                     0\n",
      "last_review                       10052\n",
      "reviews_per_month                 10052\n",
      "calculated_host_listings_count        0\n",
      "availability_365                      0\n",
      "dtype: int64\n"
     ]
    }
   ],
   "source": [
    "print(NYC.isnull().sum())"
   ]
  },
  {
   "cell_type": "markdown",
   "id": "38d0635c-3d56-4029-b404-3af09a9de431",
   "metadata": {},
   "source": [
    "####  to maintain data structure and avoid data loss, the method chosen for last review is to fill with a placeholder date"
   ]
  },
  {
   "cell_type": "code",
   "execution_count": 41,
   "id": "1bad7e63-850e-4b46-859f-c2b715b1fc6e",
   "metadata": {},
   "outputs": [],
   "source": [
    "##fill nulls with a place holder date\n",
    "NYC['last_review'] = NYC['last_review'].fillna('1900-01-01')"
   ]
  },
  {
   "cell_type": "code",
   "execution_count": 43,
   "id": "c6423da2-fb39-430b-a4e3-37738124cafe",
   "metadata": {},
   "outputs": [],
   "source": [
    "## the method chosen for reviews per month is to replace with mean\n",
    "mean_reviews = NYC['reviews_per_month'].mean()\n",
    "NYC['reviews_per_month'] = NYC['reviews_per_month'].fillna(mean_reviews)"
   ]
  },
  {
   "cell_type": "markdown",
   "id": "f80513ee-826f-4b9f-94ad-291527828f19",
   "metadata": {},
   "source": [
    "#### the method chosen for name and host name is to fill with a placeholder value which is \"unknown\" in other to maintain data integrity"
   ]
  },
  {
   "cell_type": "code",
   "execution_count": 48,
   "id": "aad58c93-854c-421a-ac0a-692f1323cdd6",
   "metadata": {},
   "outputs": [],
   "source": [
    "## fill name with a placeholder\n",
    "NYC['name'] = NYC['name'].fillna('Unknown')\n",
    "\n",
    "## fill hist name with placeholder\n",
    "NYC['host_name'] = NYC['host_name'].fillna('Unknown')"
   ]
  },
  {
   "cell_type": "code",
   "execution_count": 50,
   "id": "da2bef69-7af1-4448-b870-16b50ca0ae6a",
   "metadata": {},
   "outputs": [
    {
     "name": "stdout",
     "output_type": "stream",
     "text": [
      "id                                0\n",
      "name                              0\n",
      "host_id                           0\n",
      "host_name                         0\n",
      "neighbourhood_group               0\n",
      "neighbourhood                     0\n",
      "latitude                          0\n",
      "longitude                         0\n",
      "room_type                         0\n",
      "price                             0\n",
      "minimum_nights                    0\n",
      "number_of_reviews                 0\n",
      "last_review                       0\n",
      "reviews_per_month                 0\n",
      "calculated_host_listings_count    0\n",
      "availability_365                  0\n",
      "dtype: int64\n"
     ]
    }
   ],
   "source": [
    "print(NYC.isnull().sum())"
   ]
  },
  {
   "cell_type": "markdown",
   "id": "5536083d-1eae-4b3b-8e17-ddb88da40c27",
   "metadata": {},
   "source": [
    "#### missing values have been handled"
   ]
  },
  {
   "cell_type": "markdown",
   "id": "74a64169-835b-41be-99b0-4ddb13d9dbd3",
   "metadata": {},
   "source": [
    "## Duplicate Removal"
   ]
  },
  {
   "cell_type": "code",
   "execution_count": 55,
   "id": "a704402d-7add-4d6f-9a24-f9fcc1f27c8e",
   "metadata": {},
   "outputs": [
    {
     "name": "stdout",
     "output_type": "stream",
     "text": [
      "Number of duplicate rows: 0\n"
     ]
    }
   ],
   "source": [
    "duplicates = NYC.duplicated().sum()\n",
    "print(\"Number of duplicate rows:\", duplicates)"
   ]
  },
  {
   "cell_type": "markdown",
   "id": "98ab9cc3-8795-4b60-86d1-71b681ff52f7",
   "metadata": {},
   "source": [
    "#### No duplicates found in the data"
   ]
  },
  {
   "cell_type": "markdown",
   "id": "0d6ba6e9-7bed-481e-9aa6-7e498a63681c",
   "metadata": {},
   "source": [
    "## Standardization"
   ]
  },
  {
   "cell_type": "code",
   "execution_count": 63,
   "id": "9bccd5d7-e796-43e2-bbea-36ef05ba67c1",
   "metadata": {},
   "outputs": [],
   "source": [
    "from sklearn.preprocessing import StandardScaler"
   ]
  },
  {
   "cell_type": "code",
   "execution_count": 65,
   "id": "ac916fc8-3bd2-4108-830e-ad52eb171c86",
   "metadata": {},
   "outputs": [],
   "source": [
    "## considering the numerical columns\n",
    "numericals =['latitude','longitude','price','minimum_nights','number_of_reviews','reviews_per_month','calculated_host_listings_count',\n",
    "            'availability_365']\n",
    "\n",
    "scaler = StandardScaler()\n",
    "\n",
    "NYC[numericals] = scaler.fit_transform(NYC[numericals])"
   ]
  },
  {
   "cell_type": "code",
   "execution_count": 67,
   "id": "4f88732c-47f5-4c9b-bea9-ed89d46be2ad",
   "metadata": {},
   "outputs": [],
   "source": [
    "## extracting date and time components\n",
    "NYC['review_year'] = NYC['last_review'].dt.year\n",
    "NYC['review_month'] = NYC['last_review'].dt.month\n",
    "NYC['review_day'] = NYC['last_review'].dt.day"
   ]
  },
  {
   "cell_type": "markdown",
   "id": "1e9a42b0-2a99-4155-b362-6064def1db2e",
   "metadata": {},
   "source": [
    "## Outlier detection"
   ]
  },
  {
   "cell_type": "markdown",
   "id": "79f4dde9-82d1-40eb-97f0-fabbdce40d80",
   "metadata": {},
   "source": [
    "#### identifying outliers using standard deviation"
   ]
  },
  {
   "cell_type": "code",
   "execution_count": 71,
   "id": "9e61663f-2b19-4f27-a290-97c7f69a6cd8",
   "metadata": {},
   "outputs": [
    {
     "name": "stdout",
     "output_type": "stream",
     "text": [
      "Outliers:\n",
      "             id                                               name    host_id  \\\n",
      "496      174966              Luxury 2Bed/2.5Bath Central Park View     836168   \n",
      "762      273190          6 Bedroom Landmark West Village Townhouse     605463   \n",
      "946      363673                   Beautiful 3 bedroom in Manhattan     256239   \n",
      "1105     468613   $ (Phone number hidden by Airbnb) weeks - room f    2325861   \n",
      "1414     634353                Luxury 1Bed with Central Park Views     836168   \n",
      "...         ...                                                ...        ...   \n",
      "48301  36186719           Private Bedroom in the Heart of Chelsea!  268920555   \n",
      "48304  36189195      Next to Times Square/Javits/MSG! Amazing 1BR!  270214015   \n",
      "48305  36189257             2BR Near Museum Mile! Upper East Side!  272166348   \n",
      "48523  36308562  Tasteful & Trendy Brooklyn Brownstone, near Train  217732163   \n",
      "48535  36311055     Stunning & Stylish Brooklyn Luxury, near Train  245712163   \n",
      "\n",
      "           host_name neighbourhood_group       neighbourhood  latitude  \\\n",
      "496            Henry           Manhattan     Upper West Side  0.817009   \n",
      "762     West Village           Manhattan        West Village  0.074476   \n",
      "946           Tracey           Manhattan     Upper West Side  1.329025   \n",
      "1105         Cynthia           Manhattan     Lower East Side -0.136236   \n",
      "1414           Henry           Manhattan     Upper West Side  0.831313   \n",
      "...              ...                 ...                 ...       ...   \n",
      "48301  Terrence Jake           Manhattan             Chelsea  0.300042   \n",
      "48304        Rogelio           Manhattan      Hell's Kitchen  0.483795   \n",
      "48305    Mary Rotsen           Manhattan     Upper East Side  0.960418   \n",
      "48523          Sandy            Brooklyn  Bedford-Stuyvesant -0.757001   \n",
      "48535        Urvashi            Brooklyn  Bedford-Stuyvesant -0.852729   \n",
      "\n",
      "       longitude        room_type      price  minimum_nights  \\\n",
      "496    -0.753969  Entire home/apt   7.692135        1.119925   \n",
      "762    -1.094334  Entire home/apt   4.777311       -0.098973   \n",
      "946    -0.371356     Private room  11.856169       -0.001461   \n",
      "1105   -0.880062     Private room   4.777311       -0.293996   \n",
      "1414   -0.731653  Entire home/apt   3.528100        1.119925   \n",
      "...          ...              ...        ...             ...   \n",
      "48301  -0.917977     Private room   3.523936        1.119925   \n",
      "48304  -1.007239  Entire home/apt  11.852005        1.119925   \n",
      "48305  -0.009758  Entire home/apt   7.687971        1.119925   \n",
      "48523  -0.127402  Entire home/apt   5.064629       -0.293996   \n",
      "48535   0.389971  Entire home/apt   6.646962       -0.293996   \n",
      "\n",
      "       number_of_reviews last_review  reviews_per_month  \\\n",
      "496             0.150966  2018-05-05          -0.696521   \n",
      "762             0.106072  2018-09-25          -0.709875   \n",
      "946            -0.522433  1900-01-01           0.000000   \n",
      "1105           -0.522433  1900-01-01           0.000000   \n",
      "1414            0.465218  2015-09-28          -0.562989   \n",
      "...                  ...         ...                ...   \n",
      "48301          -0.522433  1900-01-01           0.000000   \n",
      "48304          -0.522433  1900-01-01           0.000000   \n",
      "48305          -0.522433  1900-01-01           0.000000   \n",
      "48523          -0.522433  1900-01-01           0.000000   \n",
      "48535          -0.522433  1900-01-01           0.000000   \n",
      "\n",
      "       calculated_host_listings_count  availability_365  review_year  \\\n",
      "496                          0.117019         -0.856865         2018   \n",
      "762                         -0.095410          1.399615         2018   \n",
      "946                         -0.186451          1.916250         1900   \n",
      "1105                        -0.186451         -0.856865         1900   \n",
      "1414                         0.117019          1.908653         2015   \n",
      "...                               ...               ...          ...   \n",
      "48301                       -0.186451          1.194481         1900   \n",
      "48304                       -0.186451          0.829797         1900   \n",
      "48305                       -0.186451          1.194481         1900   \n",
      "48523                       -0.186451          1.794689         1900   \n",
      "48535                       -0.186451          1.445201         1900   \n",
      "\n",
      "       review_month  review_day  outlier_flag  \n",
      "496               5           5          True  \n",
      "762               9          25          True  \n",
      "946               1           1          True  \n",
      "1105              1           1          True  \n",
      "1414              9          28          True  \n",
      "...             ...         ...           ...  \n",
      "48301             1           1          True  \n",
      "48304             1           1          True  \n",
      "48305             1           1          True  \n",
      "48523             1           1          True  \n",
      "48535             1           1          True  \n",
      "\n",
      "[388 rows x 20 columns]\n"
     ]
    }
   ],
   "source": [
    "## using threshold 3\n",
    "threshold = 3\n",
    "mean = NYC['price'].mean()\n",
    "std = NYC['price'].std()\n",
    "NYC['outlier_flag'] = (NYC['price'] - mean).abs() > threshold * std\n",
    "\n",
    "outliers = NYC[NYC['outlier_flag']]\n",
    "print(\"Outliers:\")\n",
    "print(outliers)"
   ]
  },
  {
   "cell_type": "code",
   "execution_count": 77,
   "id": "44d0b464-b6e0-40d8-897b-314f51222c04",
   "metadata": {},
   "outputs": [],
   "source": [
    "## handling outliers using IQR method\n",
    "Q1 = NYC['price'].quantile(0.25)\n",
    "Q3 = NYC['price'].quantile(0.75)\n",
    "IQR = Q3 - Q1\n",
    "\n",
    "lower_bound = Q1 - 1.5 + IQR\n",
    "upper_bound = Q3 + 1.5 + IQR\n",
    "\n",
    "cleaned_data = NYC[(NYC['price'] >= lower_bound) & (NYC['price'] <= upper_bound)]"
   ]
  },
  {
   "cell_type": "code",
   "execution_count": 79,
   "id": "f39a4785-7026-4e29-aef7-f41af72a87d5",
   "metadata": {},
   "outputs": [
    {
     "data": {
      "text/plain": [
       "Text(0.5, 1.0, 'Box plot after outlier removal')"
      ]
     },
     "execution_count": 79,
     "metadata": {},
     "output_type": "execute_result"
    },
    {
     "data": {
      "image/png": "[encoded data removed]",
      "text/plain": [
       "<Figure size 1200x600 with 2 Axes>"
      ]
     },
     "metadata": {},
     "output_type": "display_data"
    }
   ],
   "source": [
    "## distribution of data before and after outlier distribution\n",
    "plt.figure(figsize=(12,6))\n",
    "plt.subplot(1,2,1)\n",
    "sns.boxplot(y=NYC['price'], color ='purple')\n",
    "plt.title('Box plot before outlier removal')\n",
    "\n",
    "plt.subplot(1,2,2)\n",
    "sns.boxplot(y=cleaned_data['price'], color = 'purple')\n",
    "plt.title('Box plot after outlier removal')"
   ]
  },
  {
   "cell_type": "code",
   "execution_count": 81,
   "id": "e726bda7-cf5c-4a68-9881-511613e19010",
   "metadata": {},
   "outputs": [
    {
     "name": "stdout",
     "output_type": "stream",
     "text": [
      "Outliers:\n",
      "             id                                            name    host_id  \\\n",
      "3          3831                 Cozy Entire Floor of Brownstone       4869   \n",
      "7          5178                Large Furnished Room Near B'way        8967   \n",
      "9          5238              Cute & Cozy Lower East Side 1 bdrm       7549   \n",
      "11         5441                 Central Manhattan/near Broadway       7989   \n",
      "12         5803  Lovely Room 1, Garden, Best Area, Legal rental       9744   \n",
      "...         ...                                             ...        ...   \n",
      "28370  22035333         *Memory foam mattress lovers//Netflix!!  146449899   \n",
      "28651  22176831   JFK 2 Comfort 5 Mins from JFK Private Bedroom  156684502   \n",
      "28801  22241573                Private Room B In Prime Location  162427870   \n",
      "29280  22463977     Amazing Master Bedroom in Historic Brooklyn  164650025   \n",
      "29628  22750161   JFK 3 Comfort 5 Mins from JFK Private Bedroom  156684502   \n",
      "\n",
      "         host_name neighbourhood_group        neighbourhood  latitude  \\\n",
      "3      LisaRoxanne            Brooklyn         Clinton Hill -0.803398   \n",
      "7         Shunichi           Manhattan       Hell's Kitchen  0.659113   \n",
      "9              Ben           Manhattan            Chinatown -0.284413   \n",
      "11            Kate           Manhattan       Hell's Kitchen  0.583374   \n",
      "12          Laurie            Brooklyn          South Slope -1.112404   \n",
      "...            ...                 ...                  ...       ...   \n",
      "28370       Fabian              Queens             Flushing  0.325532   \n",
      "28651      Nalicia              Queens  Springfield Gardens -1.235457   \n",
      "28801         Anna           Manhattan              Chelsea  0.336352   \n",
      "29280        Chris            Brooklyn     Prospect Heights -0.942221   \n",
      "29628      Nalicia              Queens  Springfield Gardens -1.209783   \n",
      "\n",
      "       longitude        room_type     price  minimum_nights  \\\n",
      "3      -0.164450  Entire home/apt -0.265335       -0.293996   \n",
      "7      -0.709771     Private room -0.306975       -0.245240   \n",
      "9      -0.827632  Entire home/apt -0.011329       -0.293996   \n",
      "11     -0.790800     Private room -0.281991       -0.245240   \n",
      "12     -0.771735     Private room -0.265335       -0.147729   \n",
      "...          ...              ...       ...             ...   \n",
      "28370   2.548075     Private room -0.415240       -0.293996   \n",
      "28651   3.935969     Private room -0.427732       -0.293996   \n",
      "28801  -0.810299     Private room -0.157070       -0.293996   \n",
      "29280  -0.391288     Private room -0.490193       -0.293996   \n",
      "29628   3.946802     Private room -0.427732       -0.293996   \n",
      "\n",
      "       number_of_reviews last_review  reviews_per_month  \\\n",
      "3               5.538156  2019-07-05           2.181110   \n",
      "7               9.129616  2019-06-24           1.399943   \n",
      "9               3.069027  2019-06-09          -0.028857   \n",
      "11              3.697532  2019-06-23           0.084645   \n",
      "12              3.226153  2019-06-24          -0.022181   \n",
      "...                  ...         ...                ...   \n",
      "28370           3.203707  2019-06-30           4.918532   \n",
      "28651           7.131866  2019-07-08          10.980921   \n",
      "28801           3.113920  2019-06-23           4.878472   \n",
      "29280           4.056678  2019-06-30           6.540956   \n",
      "29628           6.256448  2019-07-06          10.306580   \n",
      "\n",
      "       calculated_host_listings_count  availability_365  review_year  \\\n",
      "3                           -0.186451          0.617065         2019   \n",
      "7                           -0.186451          0.814602         2019   \n",
      "9                           -0.095410          0.571480         2019   \n",
      "11                          -0.186451         -0.560559         2019   \n",
      "12                          -0.125757          1.528774         2019   \n",
      "...                               ...               ...          ...   \n",
      "28370                       -0.156104          0.290369         2019   \n",
      "28651                       -0.125757         -0.666925         2019   \n",
      "28801                       -0.125757          1.513579         2019   \n",
      "29280                       -0.186451         -0.712511         2019   \n",
      "29628                       -0.125757         -0.659328         2019   \n",
      "\n",
      "       review_month  review_day  outlier_flag  \n",
      "3                 7           5          True  \n",
      "7                 6          24          True  \n",
      "9                 6           9          True  \n",
      "11                6          23          True  \n",
      "12                6          24          True  \n",
      "...             ...         ...           ...  \n",
      "28370             6          30          True  \n",
      "28651             7           8          True  \n",
      "28801             6          23          True  \n",
      "29280             6          30          True  \n",
      "29628             7           6          True  \n",
      "\n",
      "[1221 rows x 20 columns]\n"
     ]
    }
   ],
   "source": [
    "# for number of reviews\n",
    "threshold = 3\n",
    "mean = NYC['number_of_reviews'].mean()\n",
    "std = NYC['number_of_reviews'].std()\n",
    "NYC['outlier_flag'] = (NYC['number_of_reviews'] - mean).abs() > threshold * std\n",
    "\n",
    "outliers = NYC[NYC['outlier_flag']]\n",
    "print(\"Outliers:\")\n",
    "print(outliers)"
   ]
  },
  {
   "cell_type": "code",
   "execution_count": 83,
   "id": "fef73f70-7878-4584-a485-44c254de892b",
   "metadata": {},
   "outputs": [],
   "source": [
    "Q1 = NYC['number_of_reviews'].quantile(0.25)\n",
    "Q3 = NYC['number_of_reviews'].quantile(0.75)\n",
    "IQR = Q3 - Q1\n",
    "\n",
    "lower_bound = Q1 - 1.5 + IQR\n",
    "upper_bound = Q3 + 1.5 + IQR\n",
    "\n",
    "cleaned_data = NYC[(NYC['number_of_reviews'] >= lower_bound) & (NYC['number_of_reviews'] <= upper_bound)]"
   ]
  },
  {
   "cell_type": "code",
   "execution_count": 85,
   "id": "e324e59d-33dd-461e-875a-448211ea118c",
   "metadata": {},
   "outputs": [
    {
     "data": {
      "text/plain": [
       "Text(0.5, 1.0, 'Box plot after outlier removal')"
      ]
     },
     "execution_count": 85,
     "metadata": {},
     "output_type": "execute_result"
    },
    {
     "data": {
      "image/png": "[encoded data removed]",
      "text/plain": [
       "<Figure size 1200x600 with 2 Axes>"
      ]
     },
     "metadata": {},
     "output_type": "display_data"
    }
   ],
   "source": [
    "plt.figure(figsize=(12,6))\n",
    "plt.subplot(1,2,1)\n",
    "sns.boxplot(y=NYC['number_of_reviews'], color ='purple')\n",
    "plt.title('Box plot before outlier removal')\n",
    "\n",
    "plt.subplot(1,2,2)\n",
    "sns.boxplot(y=cleaned_data['number_of_reviews'], color = 'purple')\n",
    "plt.title('Box plot after outlier removal')"
   ]
  },
  {
   "cell_type": "code",
   "execution_count": 87,
   "id": "6c8f80d5-e513-4f8e-9138-1e8cd376b881",
   "metadata": {},
   "outputs": [
    {
     "name": "stdout",
     "output_type": "stream",
     "text": [
      "Outliers:\n",
      "             id                                             name    host_id  \\\n",
      "14         6090                    West Village Nest - Superhost      11975   \n",
      "61        15396               Sunny & Spacious Chelsea Apartment      60278   \n",
      "106       25235                Large 2 Bedroom Great for Groups!      87773   \n",
      "245       61509              Quiet, clean midtown apt w. elevato      23619   \n",
      "349       94209               LARGE 1BR (CONV 2BR) CROWN HEIGHTS     503800   \n",
      "...         ...                                              ...        ...   \n",
      "48043  36056808     Luxury TriBeCa Apartment at an amazing price  271248669   \n",
      "48145  36108714                Williamsburg Waterfront Apartment     212865   \n",
      "48205  36138789          Room with Amazing location in Manhattan   31846499   \n",
      "48312  36199363  Furnished room  for rent in Bronx SINGLE FEMALE  272247972   \n",
      "48446  36270376   Beautiful home on Staten Island, walk to ferry     444904   \n",
      "\n",
      "        host_name neighbourhood_group       neighbourhood  latitude  \\\n",
      "14          Alina           Manhattan        West Village  0.116471   \n",
      "61          Petra           Manhattan             Chelsea  0.316913   \n",
      "106        Shelly            Brooklyn  Bedford-Stuyvesant -0.829255   \n",
      "245    Anna/Fonzy           Manhattan             Midtown  0.523407   \n",
      "349        Sadatu            Brooklyn       Crown Heights -0.994303   \n",
      "...           ...                 ...                 ...       ...   \n",
      "48043       Jenny           Manhattan             Tribeca -0.309720   \n",
      "48145        Waad            Brooklyn        Williamsburg -0.155858   \n",
      "48205    Veronika           Manhattan         East Harlem  1.078152   \n",
      "48312      Kadeen               Bronx           Olinville  2.791353   \n",
      "48446      Janine       Staten Island          St. George -1.630289   \n",
      "\n",
      "       longitude        room_type      price  minimum_nights  \\\n",
      "14     -1.150015  Entire home/apt  -0.136250        4.045279   \n",
      "61     -0.934443  Entire home/apt   0.925579        8.433309   \n",
      "106     0.615293  Entire home/apt  -0.115430        4.045279   \n",
      "245    -0.363989  Entire home/apt  -0.177890        9.408427   \n",
      "349     0.156633  Entire home/apt  -0.219531        4.045279   \n",
      "...          ...              ...        ...             ...   \n",
      "48043  -1.252709  Entire home/apt  26.430289        8.433309   \n",
      "48145  -0.237463  Entire home/apt  -0.011329        4.045279   \n",
      "48205   0.127818     Private room  -0.331960        8.433309   \n",
      "48312   1.878393      Shared room  -0.531833        4.045279   \n",
      "48446  -2.766697  Entire home/apt  -0.219531       17.453150   \n",
      "\n",
      "       number_of_reviews last_review  reviews_per_month  \\\n",
      "14              0.083626  2018-10-31          -0.769964   \n",
      "61             -0.410200  2018-11-03          -0.836731   \n",
      "106             3.113920  2019-06-28           0.057939   \n",
      "245             1.542656  2019-04-30          -0.315953   \n",
      "349            -0.522433  1900-01-01           0.000000   \n",
      "...                  ...         ...                ...   \n",
      "48043          -0.522433  1900-01-01           0.000000   \n",
      "48145          -0.522433  1900-01-01           0.000000   \n",
      "48205          -0.522433  1900-01-01           0.000000   \n",
      "48312          -0.522433  1900-01-01           0.000000   \n",
      "48446          -0.522433  1900-01-01           0.000000   \n",
      "\n",
      "       calculated_host_listings_count  availability_365  review_year  \\\n",
      "14                          -0.186451         -0.856865         2018   \n",
      "61                          -0.186451          0.510699         2018   \n",
      "106                         -0.156104          0.184003         2019   \n",
      "245                         -0.186451          0.206796         2019   \n",
      "349                         -0.186451          1.916250         1900   \n",
      "...                               ...               ...          ...   \n",
      "48043                       -0.186451          1.916250         1900   \n",
      "48145                       -0.186451         -0.165485         1900   \n",
      "48205                       -0.186451         -0.856865         1900   \n",
      "48312                       -0.186451          0.586675         1900   \n",
      "48446                       -0.186451          1.741506         1900   \n",
      "\n",
      "       review_month  review_day  outlier_flag  \n",
      "14               10          31          True  \n",
      "61               11           3          True  \n",
      "106               6          28          True  \n",
      "245               4          30          True  \n",
      "349               1           1          True  \n",
      "...             ...         ...           ...  \n",
      "48043             1           1          True  \n",
      "48145             1           1          True  \n",
      "48205             1           1          True  \n",
      "48312             1           1          True  \n",
      "48446             1           1          True  \n",
      "\n",
      "[327 rows x 20 columns]\n"
     ]
    }
   ],
   "source": [
    "# for minimum nights\n",
    "threshold = 3\n",
    "mean = NYC['minimum_nights'].mean()\n",
    "std = NYC['minimum_nights'].std()\n",
    "NYC['outlier_flag'] = (NYC['minimum_nights'] - mean).abs() > threshold * std\n",
    "\n",
    "outliers = NYC[NYC['outlier_flag']]\n",
    "print(\"Outliers:\")\n",
    "print(outliers)"
   ]
  },
  {
   "cell_type": "code",
   "execution_count": 89,
   "id": "be2820bb-d1e2-4660-87bd-5591c7dbc1f4",
   "metadata": {},
   "outputs": [],
   "source": [
    "Q1 = NYC['minimum_nights'].quantile(0.25)\n",
    "Q3 = NYC['minimum_nights'].quantile(0.75)\n",
    "IQR = Q3 - Q1\n",
    "\n",
    "lower_bound = Q1 - 1.5 + IQR\n",
    "upper_bound = Q3 + 1.5 + IQR\n",
    "\n",
    "cleaned_data = NYC[(NYC['minimum_nights'] >= lower_bound) & (NYC['minimum_nights'] <= upper_bound)]"
   ]
  },
  {
   "cell_type": "code",
   "execution_count": 91,
   "id": "1ed0dc6e-0944-46eb-a2a7-1bf27b50c310",
   "metadata": {},
   "outputs": [
    {
     "data": {
      "text/plain": [
       "Text(0.5, 1.0, 'Box plot after outlier removal')"
      ]
     },
     "execution_count": 91,
     "metadata": {},
     "output_type": "execute_result"
    },
    {
     "data": {
      "image/png": "[encoded data removed]",
      "text/plain": [
       "<Figure size 1200x600 with 2 Axes>"
      ]
     },
     "metadata": {},
     "output_type": "display_data"
    }
   ],
   "source": [
    "plt.figure(figsize=(12,6))\n",
    "plt.subplot(1,2,1)\n",
    "sns.boxplot(y=NYC['minimum_nights'], color ='purple')\n",
    "plt.title('Box plot before outlier removal')\n",
    "\n",
    "plt.subplot(1,2,2)\n",
    "sns.boxplot(y=cleaned_data['minimum_nights'], color = 'purple')\n",
    "plt.title('Box plot after outlier removal')"
   ]
  },
  {
   "cell_type": "code",
   "execution_count": 93,
   "id": "2a1e358a-16fc-4248-8a48-dfeb5af05754",
   "metadata": {},
   "outputs": [
    {
     "name": "stdout",
     "output_type": "stream",
     "text": [
      "Outliers:\n",
      "             id                                               name    host_id  \\\n",
      "471      166172                    LG Private Room/Family Friendly     792159   \n",
      "534      195233  Hospitality on Propsect Pk-12 yrs Hosting Lega...     949221   \n",
      "553      205043                            Modern Condo in Midtown    1007558   \n",
      "1614     732700                Centrally located and spacious apt.    3815537   \n",
      "1627     741154                Beautiful duplex loft with Skylight    1406458   \n",
      "...         ...                                                ...        ...   \n",
      "47579  35808578              Sunny, Comfortably Cozy, Private Room  269375490   \n",
      "47585  35811237     Centrally located spacious 1-bedroom apartment  269401661   \n",
      "47708  35875858  #3 Hotel-Like LOFT Private Room KING Bed Near JFK  263504959   \n",
      "47967  36004542             Cosy Bedroom in the Heart of Manhattan   30461045   \n",
      "48031  36041065        Large bedroom with private bathroom is suit  225118276   \n",
      "\n",
      "                 host_name neighbourhood_group              neighbourhood  \\\n",
      "471                  Wanda            Brooklyn                   Bushwick   \n",
      "534                 Dennis            Brooklyn  Prospect-Lefferts Gardens   \n",
      "553    Welcome To My Place           Manhattan           Theater District   \n",
      "1614                Reshma           Manhattan                    Midtown   \n",
      "1627                 Nancy           Manhattan                    Tribeca   \n",
      "...                    ...                 ...                        ...   \n",
      "47579                 Rena            Brooklyn                   Canarsie   \n",
      "47585                 Nick           Manhattan                Murray Hill   \n",
      "47708                David              Queens                  Woodhaven   \n",
      "47967               Dayana           Manhattan                    Midtown   \n",
      "48031        Alex And Mila            Brooklyn         Bedford-Stuyvesant   \n",
      "\n",
      "       latitude  longitude        room_type     price  minimum_nights  \\\n",
      "471   -0.478986   0.668590     Private room -0.386092       -0.196484   \n",
      "534   -1.353742  -0.091870     Private room -0.456881       -0.293996   \n",
      "553    0.550181  -0.782784     Private room -0.011329       -0.293996   \n",
      "1614   0.414292  -0.408837  Entire home/apt -0.194547       -0.001461   \n",
      "1627  -0.204823  -1.134199  Entire home/apt  0.238513        0.339830   \n",
      "...         ...        ...              ...       ...             ...   \n",
      "47579 -1.527226   1.327222     Private room -0.448553       -0.293996   \n",
      "47585  0.375414  -0.639791  Entire home/apt -0.240351       -0.293996   \n",
      "47708 -0.659622   1.911108     Private room -0.427732       -0.293996   \n",
      "47967  0.639857  -0.656691     Private room -0.115430       -0.293996   \n",
      "48031 -0.827971   0.511948     Private room -0.323632       -0.293996   \n",
      "\n",
      "       number_of_reviews last_review  reviews_per_month  \\\n",
      "471            10.251947  2019-07-07           3.556498   \n",
      "534             8.478664  2019-07-04           3.503085   \n",
      "553             6.884953  2019-06-20           3.850270   \n",
      "1614           -0.297967  2019-07-06           5.759789   \n",
      "1627           -0.297967  2019-07-04           5.759789   \n",
      "...                  ...         ...                ...   \n",
      "47579          -0.365307  2019-07-06           3.756797   \n",
      "47585          -0.365307  2019-06-29           3.756797   \n",
      "47708          -0.387753  2019-07-04           3.089133   \n",
      "47967          -0.387753  2019-07-01           3.089133   \n",
      "48031          -0.365307  2019-07-06           3.756797   \n",
      "\n",
      "       calculated_host_listings_count  availability_365  review_year  \\\n",
      "471                         -0.186451         -0.856865         2019   \n",
      "534                         -0.156104         -0.530169         2019   \n",
      "553                         -0.186451         -0.013534         2019   \n",
      "1614                        -0.186451         -0.856865         2019   \n",
      "1627                        -0.186451         -0.856865         2019   \n",
      "...                               ...               ...          ...   \n",
      "47579                       -0.186451         -0.340229         2019   \n",
      "47585                       -0.186451         -0.446596         2019   \n",
      "47708                        0.025978          1.331237         2019   \n",
      "47967                       -0.186451          0.221991         2019   \n",
      "48031                       -0.186451          1.619945         2019   \n",
      "\n",
      "       review_month  review_day  outlier_flag  \n",
      "471               7           7          True  \n",
      "534               7           4          True  \n",
      "553               6          20          True  \n",
      "1614              7           6          True  \n",
      "1627              7           4          True  \n",
      "...             ...         ...           ...  \n",
      "47579             7           6          True  \n",
      "47585             6          29          True  \n",
      "47708             7           4          True  \n",
      "47967             7           1          True  \n",
      "48031             7           6          True  \n",
      "\n",
      "[862 rows x 20 columns]\n"
     ]
    }
   ],
   "source": [
    "# for reviews per month\n",
    "threshold = 3\n",
    "mean = NYC['reviews_per_month'].mean()\n",
    "std = NYC['reviews_per_month'].std()\n",
    "NYC['outlier_flag'] = (NYC['reviews_per_month'] - mean).abs() > threshold * std\n",
    "\n",
    "outliers = NYC[NYC['outlier_flag']]\n",
    "print(\"Outliers:\")\n",
    "print(outliers)"
   ]
  },
  {
   "cell_type": "code",
   "execution_count": 95,
   "id": "94428700-1759-4b99-91c3-42feec926cf4",
   "metadata": {},
   "outputs": [],
   "source": [
    "Q1 = NYC['reviews_per_month'].quantile(0.25)\n",
    "Q3 = NYC['reviews_per_month'].quantile(0.75)\n",
    "IQR = Q3 - Q1\n",
    "\n",
    "lower_bound = Q1 - 1.5 + IQR\n",
    "upper_bound = Q3 + 1.5 + IQR\n",
    "\n",
    "cleaned_data = NYC[(NYC['reviews_per_month'] >= lower_bound) & (NYC['reviews_per_month'] <= upper_bound)]"
   ]
  },
  {
   "cell_type": "code",
   "execution_count": 97,
   "id": "8863ece2-5f79-4150-9d07-5b673a6e4f55",
   "metadata": {},
   "outputs": [
    {
     "data": {
      "text/plain": [
       "Text(0.5, 1.0, 'Box plot after outlier removal')"
      ]
     },
     "execution_count": 97,
     "metadata": {},
     "output_type": "execute_result"
    },
    {
     "data": {
      "image/png": "[encoded data removed]",
      "text/plain": [
       "<Figure size 1200x600 with 2 Axes>"
      ]
     },
     "metadata": {},
     "output_type": "display_data"
    }
   ],
   "source": [
    "plt.figure(figsize=(12,6))\n",
    "plt.subplot(1,2,1)\n",
    "sns.boxplot(y=NYC['reviews_per_month'], color ='purple')\n",
    "plt.title('Box plot before outlier removal')\n",
    "\n",
    "plt.subplot(1,2,2)\n",
    "sns.boxplot(y=cleaned_data['reviews_per_month'], color = 'purple')\n",
    "plt.title('Box plot after outlier removal')"
   ]
  },
  {
   "cell_type": "markdown",
   "id": "2285c8be-500a-4ca7-b069-8f513daf65d5",
   "metadata": {},
   "source": [
    "#### The data cleaning process is complete and now i can save the cleaned data into a new csv file"
   ]
  },
  {
   "cell_type": "code",
   "execution_count": 100,
   "id": "ac7e49e2-ed97-4c6a-84d4-7fa2406b94ed",
   "metadata": {},
   "outputs": [],
   "source": [
    "## saving the cleaned dataframe to a new csv file\n",
    "NYC.to_csv('cleaned_NYC_airbnb_data.csv', index=False)"
   ]
  },
  {
   "cell_type": "code",
   "execution_count": 102,
   "id": "79ff018e-c9e2-41e9-9175-80440d5692ef",
   "metadata": {},
   "outputs": [],
   "source": [
    "import pandas as pd\n",
    "cleaned_data = pd.read_csv('cleaned_NYC_airbnb_data.csv')"
   ]
  },
  {
   "cell_type": "code",
   "execution_count": null,
   "id": "fa21f4fb-d959-479e-9dca-079756e6224d",
   "metadata": {},
   "outputs": [],
   "source": []
  }
 ],
 "metadata": {
  "kernelspec": {
   "display_name": "Python 3 (ipykernel)",
   "language": "python",
   "name": "python3"
  },
  "language_info": {
   "codemirror_mode": {
    "name": "ipython",
    "version": 3
   },
   "file_extension": ".py",
   "mimetype": "text/x-python",
   "name": "python",
   "nbconvert_exporter": "python",
   "pygments_lexer": "ipython3",
   "version": "3.12.4"
  }
 },
 "nbformat": 4,
 "nbformat_minor": 5
}
